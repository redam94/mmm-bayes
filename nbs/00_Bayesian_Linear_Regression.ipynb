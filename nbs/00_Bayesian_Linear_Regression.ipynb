{
 "cells": [
  {
   "cell_type": "markdown",
   "metadata": {},
   "source": [
    "# Bayesian Linear Regression\n",
    "\n",
    "> Bayesian Linear Regression module"
   ]
  },
  {
   "cell_type": "code",
   "execution_count": null,
   "metadata": {},
   "outputs": [],
   "source": [
    "#| hide\n",
    "import logging\n",
    "import os\n",
    "\n",
    "import torch\n",
    "import numpy as np\n",
    "import pandas as pd\n",
    "import seaborn as sns\n",
    "import matplotlib.pyplot as plt\n",
    "\n",
    "import pyro"
   ]
  },
  {
   "cell_type": "code",
   "execution_count": null,
   "metadata": {},
   "outputs": [],
   "source": [
    "#| hide\n",
    "smoke_test = ('CI' in os.environ)\n",
    "assert pyro.__version__.startswith('1.8.1')\n",
    "\n",
    "pyro.enable_validation(True)\n",
    "pyro.set_rng_seed(1)\n",
    "logging.basicConfig(format='%(message)s', level=logging.INFO)\n",
    "np.random.seed(42)\n",
    "# Set matplotlib settings\n",
    "\n",
    "plt.style.use('default')"
   ]
  },
  {
   "cell_type": "code",
   "execution_count": null,
   "metadata": {},
   "outputs": [],
   "source": [
    "#| hide\n",
    "date = pd.date_range(start=\"2018-12-25\", end=\"2022-01-01\", freq=\"W-Mon\")[:156]\n",
    "week_indx = np.arange(0, 156)\n",
    "df = pd.DataFrame()\n",
    "df[\"week_indx\"] = week_indx\n",
    "df[\"date\"] = date"
   ]
  },
  {
   "cell_type": "code",
   "execution_count": null,
   "metadata": {},
   "outputs": [
    {
     "data": {
      "text/html": [
       "<div>\n",
       "<style scoped>\n",
       "    .dataframe tbody tr th:only-of-type {\n",
       "        vertical-align: middle;\n",
       "    }\n",
       "\n",
       "    .dataframe tbody tr th {\n",
       "        vertical-align: top;\n",
       "    }\n",
       "\n",
       "    .dataframe thead th {\n",
       "        text-align: right;\n",
       "    }\n",
       "</style>\n",
       "<table border=\"1\" class=\"dataframe\">\n",
       "  <thead>\n",
       "    <tr style=\"text-align: right;\">\n",
       "      <th></th>\n",
       "      <th>week_indx</th>\n",
       "      <th>date</th>\n",
       "      <th>linear_trend</th>\n",
       "    </tr>\n",
       "  </thead>\n",
       "  <tbody>\n",
       "    <tr>\n",
       "      <th>0</th>\n",
       "      <td>0</td>\n",
       "      <td>2018-12-31</td>\n",
       "      <td>-1.500000</td>\n",
       "    </tr>\n",
       "    <tr>\n",
       "      <th>1</th>\n",
       "      <td>1</td>\n",
       "      <td>2019-01-07</td>\n",
       "      <td>-1.480645</td>\n",
       "    </tr>\n",
       "    <tr>\n",
       "      <th>2</th>\n",
       "      <td>2</td>\n",
       "      <td>2019-01-14</td>\n",
       "      <td>-1.461290</td>\n",
       "    </tr>\n",
       "    <tr>\n",
       "      <th>3</th>\n",
       "      <td>3</td>\n",
       "      <td>2019-01-21</td>\n",
       "      <td>-1.441935</td>\n",
       "    </tr>\n",
       "    <tr>\n",
       "      <th>4</th>\n",
       "      <td>4</td>\n",
       "      <td>2019-01-28</td>\n",
       "      <td>-1.422581</td>\n",
       "    </tr>\n",
       "  </tbody>\n",
       "</table>\n",
       "</div>"
      ],
      "text/plain": [
       "   week_indx       date  linear_trend\n",
       "0          0 2018-12-31     -1.500000\n",
       "1          1 2019-01-07     -1.480645\n",
       "2          2 2019-01-14     -1.461290\n",
       "3          3 2019-01-21     -1.441935\n",
       "4          4 2019-01-28     -1.422581"
      ]
     },
     "execution_count": null,
     "metadata": {},
     "output_type": "execute_result"
    }
   ],
   "source": [
    "#| hide\n",
    "df[\"linear_trend\"] = df[\"week_indx\"]/155.0*3 - 1.5\n",
    "df.head()"
   ]
  },
  {
   "cell_type": "code",
   "execution_count": null,
   "metadata": {},
   "outputs": [],
   "source": [
    "#| hide\n",
    "rng = np.random.default_rng()"
   ]
  },
  {
   "cell_type": "code",
   "execution_count": null,
   "metadata": {},
   "outputs": [],
   "source": [
    "#| hide\n",
    "mus = [50, 100, 25, 175]\n",
    "sigmas = np.array([[5, -.135, .35, .01],[-.135, 1, .6, .3],[.35, .6, .5, 0],[.01, .3, 0, 2]])\n",
    "df[[\"OLV\", \"Social\", \"Display\", \"OTT\"]]= np.abs(np.round(rng.multivariate_normal(mus, (sigmas*1000), size=156), 0))\n",
    "df[\"Search\"] = np.abs(np.round(df[[\"OLV\", \"Social\", \"Display\", \"OTT\"]]@[1.5, .5, 2, .1] + np.random.normal(loc=20, scale=500, size=156)))"
   ]
  },
  {
   "cell_type": "code",
   "execution_count": null,
   "metadata": {},
   "outputs": [],
   "source": [
    "media_vars = [\"OLV\", \"Social\", \"Display\", \"OTT\", \"Search\"]\n",
    "media_transforms = {media: {\"K\": np.random.randint(int(df[media].min()), int(df[media].max()*1.1)), \"n\":np.random.uniform(.8, 3)} for media in media_vars}\n",
    "media_vars_trans = [media+\"_trans\" for media in media_vars]"
   ]
  },
  {
   "cell_type": "code",
   "execution_count": null,
   "metadata": {},
   "outputs": [],
   "source": [
    "def s_curve(x, K, n):\n",
    "    return (x**n)/(x**n+K**n)"
   ]
  },
  {
   "cell_type": "code",
   "execution_count": null,
   "metadata": {},
   "outputs": [],
   "source": [
    "df[media_vars_trans] = np.array([s_curve(df[media], **media_transforms[media]).values for media in media_vars]).T"
   ]
  },
  {
   "cell_type": "code",
   "execution_count": null,
   "metadata": {},
   "outputs": [],
   "source": [
    "def seasonality(x):\n",
    "    return np.sin(x*2*np.pi/52)-np.sin(x*6*np.pi/52)+.5*np.sin(x*8*np.pi/52)"
   ]
  },
  {
   "cell_type": "code",
   "execution_count": null,
   "metadata": {},
   "outputs": [],
   "source": [
    "df[\"season\"]=seasonality(df[\"week_indx\"])"
   ]
  },
  {
   "cell_type": "code",
   "execution_count": null,
   "metadata": {},
   "outputs": [
    {
     "data": {
      "text/plain": [
       "[<matplotlib.lines.Line2D>]"
      ]
     },
     "execution_count": null,
     "metadata": {},
     "output_type": "execute_result"
    },
    {
     "data": {
      "image/png": "[encoded data removed]",
      "text/plain": [
       "<Figure size 640x480 with 1 Axes>"
      ]
     },
     "metadata": {},
     "output_type": "display_data"
    }
   ],
   "source": [
    "#|output\n",
    "model_vars = media_vars_trans+[\"linear_trend\", \"season\"]\n",
    "coeffs = pd.DataFrame()\n",
    "coeffs[model_vars] = [[5, 2, 1.5, 1, .5, 10, 3]]\n",
    "beta = 50\n",
    "df[\"revenue\"] = df[model_vars]@coeffs[model_vars].values[0] + beta + np.random.normal(loc=0, scale=2, size=156)\n",
    "plt.plot(df['date'], df[\"revenue\"])"
   ]
  },
  {
   "cell_type": "code",
   "execution_count": null,
   "metadata": {},
   "outputs": [],
   "source": [
    "#| default_exp core\n",
    "class BayesianLinearRegression():\n",
    "    def __init__(self, n_inputs):\n",
    "        self.n_inputs = n_inputs\n",
    "        "
   ]
  },
  {
   "cell_type": "code",
   "execution_count": null,
   "metadata": {},
   "outputs": [],
   "source": [
    "#| hide\n",
    "from nbdev.showdoc import *"
   ]
  },
  {
   "cell_type": "code",
   "execution_count": null,
   "metadata": {},
   "outputs": [],
   "source": [
    "#| hide\n",
    "import nbdev; nbdev.nbdev_export()"
   ]
  }
 ],
 "metadata": {
  "kernelspec": {
   "display_name": "pyro",
   "language": "python",
   "name": "pyro"
  }
 },
 "nbformat": 4,
 "nbformat_minor": 4
}
